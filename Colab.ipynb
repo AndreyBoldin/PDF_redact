{
 "cells": [
  {
   "cell_type": "code",
   "execution_count": 22,
   "metadata": {},
   "outputs": [],
   "source": [
    "#загрузка библиотек\n",
    "import pymupdf\n",
    "import fitz\n",
    "import pandas as pd\n",
    "import numpy as np"
   ]
  },
  {
   "cell_type": "code",
   "execution_count": 23,
   "metadata": {},
   "outputs": [],
   "source": [
    "filename = 'Vals-Sac-31-I.pdf'\n",
    "doc = pymupdf.open(filename)"
   ]
  },
  {
   "cell_type": "code",
   "execution_count": 24,
   "metadata": {},
   "outputs": [],
   "source": [
    "#считывание файла эксель\n",
    "data_to_change=pd.read_excel('Date time (1) (6).xlsx')"
   ]
  },
  {
   "cell_type": "code",
   "execution_count": 25,
   "metadata": {},
   "outputs": [],
   "source": [
    "def redact_text_on_page(page, df, page_number):\n",
    "    \"\"\"\n",
    "    Заменяет текст на указанной странице документа.\n",
    "\n",
    "    :param page: Объект страницы документа\n",
    "    :param df: DataFrame с данными для замены\n",
    "    :param page_number: Номер страницы для обработки\n",
    "    \"\"\"\n",
    "    # Фильтруем данные для текущей страницы\n",
    "    df_page = df[df['Page'] == page_number]\n",
    "\n",
    "    for i, raw_text in enumerate(df_page['Old Value'].values):\n",
    "        new_text = str(df_page['New Value'].values[i])\n",
    "        hits = page.search_for(str(raw_text))\n",
    "\n",
    "        # Параметры для редактирования\n",
    "        new_fontsize = 20  # Новый размер шрифта\n",
    "        new_width = -0.1    # Новая ширина прямоугольника\n",
    "        new_width_2 = -14   # Новая ширина прямоугольника\n",
    "        new_height = -1.1   # Новая высота прямоугольника\n",
    "        new_height_2 = -0.85   # Новая высота прямоугольника\n",
    "\n",
    "        for rect in hits:\n",
    "            x1, y1, x2, y2 = rect\n",
    "            new_x1 = x1 + new_width_2\n",
    "            new_x2 = x2 + new_width\n",
    "            new_y2 = y2 - new_height_2*1.1\n",
    "            new_y1 = y1 + new_height\n",
    "            new_rect = fitz.Rect(new_x1,new_y1, new_x2, new_y2)\n",
    "            \n",
    "            page.apply_redactions(text=1)\n",
    "            \n",
    "            # Добавляем аннотацию для редактирования\n",
    "            page.add_redact_annot(new_rect, new_text,\n",
    "                                   fontname=page.get_fonts()[1][4],\n",
    "                                   fontsize=new_fontsize,\n",
    "                                   align=fitz.TEXT_ALIGN_RIGHT)\n",
    "            \n",
    "\n",
    "        # Применяем редактирование\n",
    "        page.apply_redactions()\n"
   ]
  },
  {
   "cell_type": "code",
   "execution_count": 26,
   "metadata": {},
   "outputs": [],
   "source": [
    "for page_number in [0,3]:\n",
    "    page = doc[page_number]\n",
    "    redact_text_on_page(page, data_to_change, page_number)\n"
   ]
  },
  {
   "cell_type": "code",
   "execution_count": 27,
   "metadata": {},
   "outputs": [],
   "source": [
    "doc.save(\"document.pdf\")  # Замените на нужное имя файла\n",
    "doc.close()"
   ]
  }
 ],
 "metadata": {
  "kernelspec": {
   "display_name": "Python 3",
   "language": "python",
   "name": "python3"
  },
  "language_info": {
   "codemirror_mode": {
    "name": "ipython",
    "version": 3
   },
   "file_extension": ".py",
   "mimetype": "text/x-python",
   "name": "python",
   "nbconvert_exporter": "python",
   "pygments_lexer": "ipython3",
   "version": "3.11.4"
  }
 },
 "nbformat": 4,
 "nbformat_minor": 2
}
